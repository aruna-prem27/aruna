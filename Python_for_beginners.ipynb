{
  "nbformat": 4,
  "nbformat_minor": 0,
  "metadata": {
    "colab": {
      "provenance": [],
      "authorship_tag": "ABX9TyM1NBVUuWgHsT654ZzX1MZt",
      "include_colab_link": true
    },
    "kernelspec": {
      "name": "python3",
      "display_name": "Python 3"
    },
    "language_info": {
      "name": "python"
    }
  },
  "cells": [
    {
      "cell_type": "markdown",
      "metadata": {
        "id": "view-in-github",
        "colab_type": "text"
      },
      "source": [
        "<a href=\"https://colab.research.google.com/github/aruna-prem27/aruna/blob/main/Python_for_beginners.ipynb\" target=\"_parent\"><img src=\"https://colab.research.google.com/assets/colab-badge.svg\" alt=\"Open In Colab\"/></a>"
      ]
    },
    {
      "cell_type": "code",
      "execution_count": null,
      "metadata": {
        "id": "fKttxMTtFtky"
      },
      "outputs": [],
      "source": [
        "x = 1         # assign variable x the value 1\n",
        "y = x + 5     # assign variable y the value of x plus 5\n",
        "z = y         # assign variable z the value of y\n"
      ]
    },
    {
      "cell_type": "code",
      "source": [
        "x = 1       # integer\n",
        "x = 1.0     # decimal (floating point)"
      ],
      "metadata": {
        "id": "V8pm4yMWGCDr"
      },
      "execution_count": null,
      "outputs": []
    },
    {
      "cell_type": "code",
      "source": [
        "x = 1\n",
        "print(type(x)) # outputs: <class 'int'>\n",
        "\n",
        "x = 1.0\n",
        "print(type(x)) # outputs: <class 'float'>"
      ],
      "metadata": {
        "colab": {
          "base_uri": "https://localhost:8080/"
        },
        "id": "GGU5ctrKK29N",
        "outputId": "026cd8a9-4d38-4c53-a5f4-19e8953c2bd5"
      },
      "execution_count": null,
      "outputs": [
        {
          "output_type": "stream",
          "name": "stdout",
          "text": [
            "<class 'int'>\n",
            "<class 'float'>\n"
          ]
        }
      ]
    },
    {
      "cell_type": "code",
      "source": [
        "x = True\n",
        "print(type(x)) # outputs: <class 'bool'>"
      ],
      "metadata": {
        "colab": {
          "base_uri": "https://localhost:8080/"
        },
        "id": "M5YoWDW5K5Gn",
        "outputId": "9f7479a0-a6cb-49fa-df2d-0bd3eaa5bbfd"
      },
      "execution_count": null,
      "outputs": [
        {
          "output_type": "stream",
          "name": "stdout",
          "text": [
            "<class 'bool'>\n"
          ]
        }
      ]
    },
    {
      "cell_type": "code",
      "source": [
        "x = 'This is a string'\n",
        "print(x) # outputs: This is a string\n",
        "print(type(x)) # outputs: <class 'str'>\n",
        "y = \"This is also a string\""
      ],
      "metadata": {
        "colab": {
          "base_uri": "https://localhost:8080/"
        },
        "id": "Z3KSclldK7yS",
        "outputId": "739ccdb7-b8bd-4798-9474-510589aceaad"
      },
      "execution_count": null,
      "outputs": [
        {
          "output_type": "stream",
          "name": "stdout",
          "text": [
            "This is a string\n",
            "<class 'str'>\n"
          ]
        }
      ]
    },
    {
      "cell_type": "code",
      "source": [
        "# concatenation\n",
        "x = 'Hello' + ' ' + 'World!'\n",
        "print(x) # outputs: Hello World!"
      ],
      "metadata": {
        "colab": {
          "base_uri": "https://localhost:8080/"
        },
        "id": "lFut5JyqLQ-M",
        "outputId": "f0ee6125-8857-47f1-c623-9373989566b5"
      },
      "execution_count": null,
      "outputs": [
        {
          "output_type": "stream",
          "name": "stdout",
          "text": [
            "Hello World!\n"
          ]
        }
      ]
    },
    {
      "cell_type": "code",
      "source": [
        "print('Hello World!')"
      ],
      "metadata": {
        "colab": {
          "base_uri": "https://localhost:8080/"
        },
        "id": "xHE24rkELaXR",
        "outputId": "c17b9ecf-9420-4146-b2cf-7ca5bd1ebba6"
      },
      "execution_count": null,
      "outputs": [
        {
          "output_type": "stream",
          "name": "stdout",
          "text": [
            "Hello World!\n"
          ]
        }
      ]
    },
    {
      "cell_type": "code",
      "source": [
        "name = input('Enter your name:')\n",
        "print(name)"
      ],
      "metadata": {
        "colab": {
          "base_uri": "https://localhost:8080/"
        },
        "id": "ox-EBmv4LhhI",
        "outputId": "737540ae-0846-4b30-9989-4c7750706fd4"
      },
      "execution_count": null,
      "outputs": [
        {
          "output_type": "stream",
          "name": "stdout",
          "text": [
            "Enter your name:Aruna\n",
            "Aruna\n"
          ]
        }
      ]
    },
    {
      "cell_type": "code",
      "source": [
        "print('What is your name?')\n",
        "name = input()\n",
        "print(name)"
      ],
      "metadata": {
        "colab": {
          "base_uri": "https://localhost:8080/"
        },
        "id": "BBH9Ed6NL4h2",
        "outputId": "a7764afd-b058-403e-b4cb-522c2d444943"
      },
      "execution_count": null,
      "outputs": [
        {
          "output_type": "stream",
          "name": "stdout",
          "text": [
            "What is your name?\n",
            "Aruna\n",
            "Aruna\n"
          ]
        }
      ]
    },
    {
      "cell_type": "code",
      "source": [
        "x = input('Enter a number: ')\n",
        "print(type(x))"
      ],
      "metadata": {
        "colab": {
          "base_uri": "https://localhost:8080/"
        },
        "id": "x611kCSEL_EH",
        "outputId": "6331fdf0-3aab-47c0-c518-62259fa38b44"
      },
      "execution_count": null,
      "outputs": [
        {
          "output_type": "stream",
          "name": "stdout",
          "text": [
            "Enter a number: 5\n",
            "<class 'str'>\n"
          ]
        }
      ]
    },
    {
      "cell_type": "code",
      "source": [
        "x = int(input('Enter a number: '))\n",
        "print(type(x))"
      ],
      "metadata": {
        "colab": {
          "base_uri": "https://localhost:8080/"
        },
        "id": "OK3-roZ_MQMq",
        "outputId": "df363c87-b7e3-4509-92a6-e7fafd7895e9"
      },
      "execution_count": null,
      "outputs": [
        {
          "output_type": "stream",
          "name": "stdout",
          "text": [
            "Enter a number: 5\n",
            "<class 'int'>\n"
          ]
        }
      ]
    },
    {
      "cell_type": "code",
      "source": [
        "x = 5\n",
        "print('The number is ' + str(x)) # combines string and numeric"
      ],
      "metadata": {
        "colab": {
          "base_uri": "https://localhost:8080/"
        },
        "id": "daE-pSClMVBz",
        "outputId": "f0e158de-896d-4ff1-8a40-d1eb18cde9ed"
      },
      "execution_count": null,
      "outputs": [
        {
          "output_type": "stream",
          "name": "stdout",
          "text": [
            "The number is 5\n"
          ]
        }
      ]
    },
    {
      "cell_type": "code",
      "source": [
        "# The str() method will take an integer or float value and turn it into a string."
      ],
      "metadata": {
        "id": "G_FJD7xoMaSa"
      },
      "execution_count": null,
      "outputs": []
    },
    {
      "cell_type": "code",
      "source": [
        "first_number = int(input('Type the first number: '))\n",
        "second_number = int(input('Type the second number: '))\n",
        "print(\"The sum is: \", first_number + second_number)"
      ],
      "metadata": {
        "colab": {
          "base_uri": "https://localhost:8080/"
        },
        "id": "tX1SSfGPMkMc",
        "outputId": "81411e15-6530-4377-93de-12f5237d780d"
      },
      "execution_count": null,
      "outputs": [
        {
          "output_type": "stream",
          "name": "stdout",
          "text": [
            "Type the first number: 26\n",
            "Type the second number: 25\n",
            "The sum is:  51\n"
          ]
        }
      ]
    },
    {
      "cell_type": "code",
      "source": [
        "first_number = int(input('Type the first number: ')) ;\\\n",
        "second_number = int(input('Type the second number: ')) ;\\\n",
        "print(\"The sum is: \", first_number + second_number)"
      ],
      "metadata": {
        "colab": {
          "base_uri": "https://localhost:8080/"
        },
        "id": "1Z-6g-K-MwHh",
        "outputId": "e3a912f9-7483-4339-8f8e-71a9de8cc209"
      },
      "execution_count": null,
      "outputs": [
        {
          "output_type": "stream",
          "name": "stdout",
          "text": [
            "Type the first number: 23\n",
            "Type the second number: 2\n",
            "The sum is:  25\n"
          ]
        }
      ]
    },
    {
      "cell_type": "code",
      "source": [
        "# The characters ;\\, at the end of the first two statements signal that there are many lines of code.\n",
        "# Using these characters lets you input all of the code, line by line."
      ],
      "metadata": {
        "id": "wak6cZcqM5jY"
      },
      "execution_count": null,
      "outputs": []
    },
    {
      "cell_type": "code",
      "source": [
        "# Equals: a == b\n",
        "#Not Equals: a != b\n",
        "#Less than: a < b\n",
        "#Less than or equal to: a <= b\n",
        "#Greater than: a > b\n",
        "#Greater than or equal to: a >= b"
      ],
      "metadata": {
        "id": "26Ee12d7NC0V"
      },
      "execution_count": null,
      "outputs": []
    },
    {
      "cell_type": "code",
      "source": [
        "\n",
        "a = 97\n",
        "b = 55\n",
        "# test expression\n",
        "if a < b:\n",
        "    # statement to be run\n",
        "    print(b)"
      ],
      "metadata": {
        "id": "A1sSeWj8O2QN"
      },
      "execution_count": null,
      "outputs": []
    },
    {
      "cell_type": "code",
      "source": [
        "# In Python, None and 0 are also interpreted as False."
      ],
      "metadata": {
        "id": "j0696cOmPGYV"
      },
      "execution_count": null,
      "outputs": []
    },
    {
      "cell_type": "code",
      "source": [
        "a = 93\n",
        "b = 27\n",
        "if a >= b:\n",
        "    print(a)"
      ],
      "metadata": {
        "colab": {
          "base_uri": "https://localhost:8080/"
        },
        "id": "m_WDKBZ3PK0W",
        "outputId": "24e8f289-7e37-428a-e46f-5294ab8461bc"
      },
      "execution_count": null,
      "outputs": [
        {
          "output_type": "stream",
          "name": "stdout",
          "text": [
            "93\n"
          ]
        }
      ]
    },
    {
      "cell_type": "code",
      "source": [
        "a = 24\n",
        "b = 44\n",
        "if a <= 0:\n",
        "    print(a)\n",
        "print(b) # indentation is important"
      ],
      "metadata": {
        "colab": {
          "base_uri": "https://localhost:8080/"
        },
        "id": "zEjDxCN1PWBf",
        "outputId": "4a5c080e-b39e-4be5-8e96-bc5c87ab3abb"
      },
      "execution_count": null,
      "outputs": [
        {
          "output_type": "stream",
          "name": "stdout",
          "text": [
            "44\n"
          ]
        }
      ]
    },
    {
      "cell_type": "code",
      "source": [
        "a = 27\n",
        "b = 93\n",
        "if a >= b:\n",
        "    print(a)\n",
        "else:\n",
        "    print(b)"
      ],
      "metadata": {
        "colab": {
          "base_uri": "https://localhost:8080/"
        },
        "id": "F4lfpBWgPZAZ",
        "outputId": "36538a72-17fa-452c-a57b-155633c39d6a"
      },
      "execution_count": null,
      "outputs": [
        {
          "output_type": "stream",
          "name": "stdout",
          "text": [
            "93\n"
          ]
        }
      ]
    },
    {
      "cell_type": "code",
      "source": [
        "a = 27\n",
        "b = 93\n",
        "if a <= b:\n",
        "    print(\"a is less than or equal to b\")\n",
        "elif a == b:\n",
        "    print(\"a is equal to b\")"
      ],
      "metadata": {
        "colab": {
          "base_uri": "https://localhost:8080/"
        },
        "id": "yNtSnLatPui0",
        "outputId": "3bef5ebb-c6ef-424e-defc-e161453ab67e"
      },
      "execution_count": null,
      "outputs": [
        {
          "output_type": "stream",
          "name": "stdout",
          "text": [
            "a is less than or equal to b\n"
          ]
        }
      ]
    },
    {
      "cell_type": "code",
      "source": [
        "a = 27\n",
        "b = 93\n",
        "if a < b:\n",
        "    print(\"a is less than b\")\n",
        "elif a > b:\n",
        "    print(\"a is greater than b\")\n",
        "else:\n",
        "    print (\"a is equal to b\")"
      ],
      "metadata": {
        "colab": {
          "base_uri": "https://localhost:8080/"
        },
        "id": "e-5b3w-TPvDx",
        "outputId": "855b1949-e394-4e9a-d2dd-2066a0e4e7f6"
      },
      "execution_count": null,
      "outputs": [
        {
          "output_type": "stream",
          "name": "stdout",
          "text": [
            "a is less than b\n"
          ]
        }
      ]
    },
    {
      "cell_type": "code",
      "source": [
        "# Nested Loop\n"
      ],
      "metadata": {
        "id": "Y4WRroTIPyx_"
      },
      "execution_count": null,
      "outputs": []
    },
    {
      "cell_type": "code",
      "source": [
        "a = 16\n",
        "b = 25\n",
        "c = 27\n",
        "if a > b:\n",
        "    if b > c:\n",
        "        print (\"a is greater than b and b is greater than c\")\n",
        "    else:\n",
        "        print (\"a is greater than b and less than c\")\n",
        "elif a == b:\n",
        "    print (\"a is equal to b\")\n",
        "else:\n",
        "    print (\"a is less than b\")"
      ],
      "metadata": {
        "colab": {
          "base_uri": "https://localhost:8080/"
        },
        "id": "5FFyOmNOP0rj",
        "outputId": "4cea3304-5c41-48ce-910d-a0fea1a06c32"
      },
      "execution_count": null,
      "outputs": [
        {
          "output_type": "stream",
          "name": "stdout",
          "text": [
            "a is less than b\n"
          ]
        }
      ]
    },
    {
      "cell_type": "code",
      "source": [
        "a = 23\n",
        "b = 34\n",
        "if a == 34 or b == 34:\n",
        "    print(a + b)\n",
        "\n",
        "\n",
        "# For Or\n",
        "# True or True = True\n",
        "# True or false = True\n",
        "# False or True = True\n",
        "# False or False = False"
      ],
      "metadata": {
        "colab": {
          "base_uri": "https://localhost:8080/"
        },
        "id": "XPUE6x8fQCAK",
        "outputId": "c6b3e21c-2b06-46f4-ccef-8ae7554ba2df"
      },
      "execution_count": null,
      "outputs": [
        {
          "output_type": "stream",
          "name": "stdout",
          "text": [
            "57\n"
          ]
        }
      ]
    },
    {
      "cell_type": "code",
      "source": [
        "a = 23\n",
        "b = 34\n",
        "if a == 34 and b == 34:\n",
        "    print (a + b)\n",
        "\n",
        "# For And\n",
        "# True and True = True\n",
        "# True and False = False\n",
        "# False and True = False\n",
        "# False and False = False"
      ],
      "metadata": {
        "id": "N3MYJOnQQiDg"
      },
      "execution_count": null,
      "outputs": []
    },
    {
      "cell_type": "code",
      "source": [
        "print[\"show this in the console\"] # use of proper bracket"
      ],
      "metadata": {
        "colab": {
          "base_uri": "https://localhost:8080/",
          "height": 141
        },
        "id": "JUUCwFDKQnA8",
        "outputId": "69895ffd-17ed-4d97-df6f-06c012eb90e1"
      },
      "execution_count": null,
      "outputs": [
        {
          "output_type": "error",
          "ename": "TypeError",
          "evalue": "'builtin_function_or_method' object is not subscriptable",
          "traceback": [
            "\u001b[0;31m---------------------------------------------------------------------------\u001b[0m",
            "\u001b[0;31mTypeError\u001b[0m                                 Traceback (most recent call last)",
            "\u001b[0;32m<ipython-input-79-4081bb6f0faf>\u001b[0m in \u001b[0;36m<cell line: 1>\u001b[0;34m()\u001b[0m\n\u001b[0;32m----> 1\u001b[0;31m \u001b[0mprint\u001b[0m\u001b[0;34m[\u001b[0m\u001b[0;34m\"show this in the console\"\u001b[0m\u001b[0;34m]\u001b[0m \u001b[0;31m# use of proper bracket\u001b[0m\u001b[0;34m\u001b[0m\u001b[0;34m\u001b[0m\u001b[0m\n\u001b[0m",
            "\u001b[0;31mTypeError\u001b[0m: 'builtin_function_or_method' object is not subscriptable"
          ]
        }
      ]
    },
    {
      "cell_type": "code",
      "source": [
        "left_side = 10\n",
        "right_side = 5\n",
        "left_side / right_side # 2"
      ],
      "metadata": {
        "colab": {
          "base_uri": "https://localhost:8080/"
        },
        "id": "9gzn5n-QRTpP",
        "outputId": "424348ed-3af4-44da-f481-ea33cb2a2856"
      },
      "execution_count": null,
      "outputs": [
        {
          "output_type": "execute_result",
          "data": {
            "text/plain": [
              "2.0"
            ]
          },
          "metadata": {},
          "execution_count": 36
        }
      ]
    },
    {
      "cell_type": "code",
      "source": [
        "from datetime import date\n",
        "date.today()\n"
      ],
      "metadata": {
        "colab": {
          "base_uri": "https://localhost:8080/"
        },
        "id": "3Q6bNRzZRdzr",
        "outputId": "ea9d594d-7909-4d2c-b37f-a827537637e2"
      },
      "execution_count": null,
      "outputs": [
        {
          "output_type": "execute_result",
          "data": {
            "text/plain": [
              "datetime.date(2024, 7, 13)"
            ]
          },
          "metadata": {},
          "execution_count": 41
        }
      ]
    },
    {
      "cell_type": "code",
      "source": [
        "print(date.today())"
      ],
      "metadata": {
        "colab": {
          "base_uri": "https://localhost:8080/"
        },
        "id": "pH3GQo35SHnb",
        "outputId": "c65ae0c2-7ac3-47fb-f52c-2bebbbb99593"
      },
      "execution_count": null,
      "outputs": [
        {
          "output_type": "stream",
          "name": "stdout",
          "text": [
            "2024-07-13\n"
          ]
        }
      ]
    },
    {
      "cell_type": "code",
      "source": [
        "print(\"Today's date is: \" + date.today())"
      ],
      "metadata": {
        "colab": {
          "base_uri": "https://localhost:8080/",
          "height": 141
        },
        "id": "Bzo4PfE3SMPD",
        "outputId": "7dbb38a7-1c86-4618-ae71-b3584d09204a"
      },
      "execution_count": null,
      "outputs": [
        {
          "output_type": "error",
          "ename": "TypeError",
          "evalue": "can only concatenate str (not \"datetime.date\") to str",
          "traceback": [
            "\u001b[0;31m---------------------------------------------------------------------------\u001b[0m",
            "\u001b[0;31mTypeError\u001b[0m                                 Traceback (most recent call last)",
            "\u001b[0;32m<ipython-input-43-e74c8796a0b9>\u001b[0m in \u001b[0;36m<cell line: 1>\u001b[0;34m()\u001b[0m\n\u001b[0;32m----> 1\u001b[0;31m \u001b[0mprint\u001b[0m\u001b[0;34m(\u001b[0m\u001b[0;34m\"Today's date is: \"\u001b[0m \u001b[0;34m+\u001b[0m \u001b[0mdate\u001b[0m\u001b[0;34m.\u001b[0m\u001b[0mtoday\u001b[0m\u001b[0;34m(\u001b[0m\u001b[0;34m)\u001b[0m\u001b[0;34m)\u001b[0m\u001b[0;34m\u001b[0m\u001b[0;34m\u001b[0m\u001b[0m\n\u001b[0m",
            "\u001b[0;31mTypeError\u001b[0m: can only concatenate str (not \"datetime.date\") to str"
          ]
        }
      ]
    },
    {
      "cell_type": "code",
      "source": [
        "print(\"Today's date is: \" + str(date.today()))"
      ],
      "metadata": {
        "colab": {
          "base_uri": "https://localhost:8080/"
        },
        "id": "tQx6sbZrSSnb",
        "outputId": "eeff0795-7f3e-4136-c32c-ee5a71d9875d"
      },
      "execution_count": null,
      "outputs": [
        {
          "output_type": "stream",
          "name": "stdout",
          "text": [
            "Today's date is: 2024-07-13\n"
          ]
        }
      ]
    },
    {
      "cell_type": "code",
      "source": [
        "import sys\n",
        "\n",
        "print(sys.argv)\n",
        "print(sys.argv[0]) # program name\n",
        "print(sys.argv[1]) # first arg\n",
        "\n",
        "# Assignment operators\n",
        "#\tx = 2\n",
        "# x now contains 2.\n",
        "# x += 2\n",
        "# x incremented by 2. If it contained 2 before, it now has a value of 4.\n",
        "#\tx -= 2\n",
        "# x decremented by 2. If it contained 2 before, it now has a value of 0.\n",
        "#\tx /= 2\n",
        "# x divided by 2. If it contained 2 before, it now has a value of 1.\n",
        "# *="
      ],
      "metadata": {
        "colab": {
          "base_uri": "https://localhost:8080/"
        },
        "id": "t6b08uJWRqG0",
        "outputId": "6e4299e9-c50c-4f71-b76f-4833ff170f06"
      },
      "execution_count": null,
      "outputs": [
        {
          "output_type": "stream",
          "name": "stdout",
          "text": [
            "['/usr/local/lib/python3.10/dist-packages/colab_kernel_launcher.py', '-f', '/root/.local/share/jupyter/runtime/kernel-83910018-da0f-4c61-8ff8-cc7ad7928acf.json']\n",
            "/usr/local/lib/python3.10/dist-packages/colab_kernel_launcher.py\n",
            "-f\n"
          ]
        }
      ]
    },
    {
      "cell_type": "code",
      "source": [
        "print(\"Welcome to the greeter program\")\n",
        "name = input(\"Enter your name: \")\n",
        "print(\"Greetings \" + name)"
      ],
      "metadata": {
        "colab": {
          "base_uri": "https://localhost:8080/"
        },
        "id": "lcmY-7FPR-tS",
        "outputId": "f41e0da6-4236-43b3-eb9a-b846ffdcbc39"
      },
      "execution_count": null,
      "outputs": [
        {
          "output_type": "stream",
          "name": "stdout",
          "text": [
            "Welcome to the greeter program\n",
            "Enter your name: Aruna\n",
            "Greetings Aruna\n"
          ]
        }
      ]
    },
    {
      "cell_type": "code",
      "source": [
        "fact = \"The Moon has no atmosphere.\"\n",
        "print(fact)"
      ],
      "metadata": {
        "colab": {
          "base_uri": "https://localhost:8080/"
        },
        "id": "bvBtJ0elSoVK",
        "outputId": "6d40b39c-b405-42ac-9fb3-40dd4c75b28e"
      },
      "execution_count": null,
      "outputs": [
        {
          "output_type": "stream",
          "name": "stdout",
          "text": [
            "The Moon has no atmosphere.\n"
          ]
        }
      ]
    },
    {
      "cell_type": "code",
      "source": [
        "fact = \"The Moon has no atmosphere.\"\n",
        "fact + \"No sound can be heard on the Moon.\""
      ],
      "metadata": {
        "colab": {
          "base_uri": "https://localhost:8080/",
          "height": 35
        },
        "id": "ETA0tQSgTOZA",
        "outputId": "c238aed4-76fd-4e69-ac62-9e43df884157"
      },
      "execution_count": null,
      "outputs": [
        {
          "output_type": "execute_result",
          "data": {
            "text/plain": [
              "'The Moon has no atmosphere.No sound can be heard on the Moon.'"
            ],
            "application/vnd.google.colaboratory.intrinsic+json": {
              "type": "string"
            }
          },
          "metadata": {},
          "execution_count": 49
        }
      ]
    },
    {
      "cell_type": "code",
      "source": [
        "# In Python, strings are immutable"
      ],
      "metadata": {
        "id": "zZbiG1lBTVCz"
      },
      "execution_count": null,
      "outputs": []
    },
    {
      "cell_type": "code",
      "source": [
        "fact = \"The Moon has no atmosphere.\"\n",
        "fact + \"No sound can be heard on the Moon.\"\n",
        "print(fact)"
      ],
      "metadata": {
        "colab": {
          "base_uri": "https://localhost:8080/"
        },
        "id": "GHNb77rQUESy",
        "outputId": "60be8700-d8ba-4b82-808e-f049b267b9ca"
      },
      "execution_count": null,
      "outputs": [
        {
          "output_type": "stream",
          "name": "stdout",
          "text": [
            "The Moon has no atmosphere.\n"
          ]
        }
      ]
    },
    {
      "cell_type": "code",
      "source": [
        "fact = \"The Moon has no atmosphere.\"\n",
        "two_facts = fact + \"No sound can be heard on the Moon.\"\n",
        "print(two_facts)"
      ],
      "metadata": {
        "colab": {
          "base_uri": "https://localhost:8080/"
        },
        "id": "xCdkUbREUKAI",
        "outputId": "be68b64c-7d1e-4855-ab3c-7518ee964783"
      },
      "execution_count": null,
      "outputs": [
        {
          "output_type": "stream",
          "name": "stdout",
          "text": [
            "The Moon has no atmosphere.No sound can be heard on the Moon.\n"
          ]
        }
      ]
    },
    {
      "cell_type": "code",
      "source": [
        "multiline = \"Facts about the Moon:\\n There is no atmosphere.\\n There is no sound.\"\n",
        "print(multiline)"
      ],
      "metadata": {
        "colab": {
          "base_uri": "https://localhost:8080/"
        },
        "id": "rlLOuaHTUNIw",
        "outputId": "88cb3416-ea02-4955-b7a8-ecb98896ca10"
      },
      "execution_count": null,
      "outputs": [
        {
          "output_type": "stream",
          "name": "stdout",
          "text": [
            "Facts about the Moon:\n",
            " There is no atmosphere.\n",
            " There is no sound.\n"
          ]
        }
      ]
    },
    {
      "cell_type": "code",
      "source": [
        "multiline = \"\"\"Facts about the Moon:\n",
        " There is no atmosphere.\n",
        " There is no sound.\"\"\"\n",
        "print(multiline)"
      ],
      "metadata": {
        "colab": {
          "base_uri": "https://localhost:8080/"
        },
        "id": "XDfn5A1DUlqU",
        "outputId": "fe236664-f7ea-45cf-ad51-3bd4812934df"
      },
      "execution_count": null,
      "outputs": [
        {
          "output_type": "stream",
          "name": "stdout",
          "text": [
            "Facts about the Moon:\n",
            " There is no atmosphere. \n",
            " There is no sound.\n"
          ]
        }
      ]
    },
    {
      "cell_type": "code",
      "source": [
        "print(\"temperatures and facts about the moon\".title())"
      ],
      "metadata": {
        "colab": {
          "base_uri": "https://localhost:8080/"
        },
        "id": "6FGHbnCPUpN4",
        "outputId": "67dda05c-9328-4bb8-cfaa-6bcec8250697"
      },
      "execution_count": null,
      "outputs": [
        {
          "output_type": "stream",
          "name": "stdout",
          "text": [
            "Temperatures And Facts About The Moon\n"
          ]
        }
      ]
    },
    {
      "cell_type": "code",
      "source": [
        "heading = \"temperatures and facts about the moon\"\n",
        "heading_upper = heading.title()\n",
        "print(heading_upper)"
      ],
      "metadata": {
        "colab": {
          "base_uri": "https://localhost:8080/"
        },
        "id": "PKMPxKLYUzbB",
        "outputId": "086577cf-827a-4535-b41a-181ae2468d01"
      },
      "execution_count": null,
      "outputs": [
        {
          "output_type": "stream",
          "name": "stdout",
          "text": [
            "Temperatures And Facts About The Moon\n"
          ]
        }
      ]
    },
    {
      "cell_type": "code",
      "source": [
        "temperatures = \"Daylight: 260 F Nighttime: -280 F\"\n",
        "temperatures_list = temperatures.split()\n",
        "print(temperatures_list)"
      ],
      "metadata": {
        "colab": {
          "base_uri": "https://localhost:8080/"
        },
        "id": "ufxFv34ZU4wa",
        "outputId": "fb648892-a5a6-4034-e138-e36d5c409669"
      },
      "execution_count": null,
      "outputs": [
        {
          "output_type": "stream",
          "name": "stdout",
          "text": [
            "['Daylight:', '260', 'F', 'Nighttime:', '-280', 'F']\n"
          ]
        }
      ]
    },
    {
      "cell_type": "code",
      "source": [
        "temperatures = \"Daylight: 260 F\\n Nighttime: -280 F\"\n",
        "temperatures_list = temperatures.split('\\n')\n",
        "print(temperatures_list)"
      ],
      "metadata": {
        "colab": {
          "base_uri": "https://localhost:8080/"
        },
        "id": "NieaXM7OU99E",
        "outputId": "1dd03aa9-9e8d-4b4e-8cd3-0f7729f17d82"
      },
      "execution_count": null,
      "outputs": [
        {
          "output_type": "stream",
          "name": "stdout",
          "text": [
            "['Daylight: 260 F', ' Nighttime: -280 F']\n"
          ]
        }
      ]
    },
    {
      "cell_type": "code",
      "source": [
        "print(\"Moon\" in \"This text will describe facts and challenges with space travel\")"
      ],
      "metadata": {
        "colab": {
          "base_uri": "https://localhost:8080/"
        },
        "id": "5EjC-5yYVEpM",
        "outputId": "e3a4c8d2-ecde-4d91-96ee-2f3ab84c2c8c"
      },
      "execution_count": null,
      "outputs": [
        {
          "output_type": "stream",
          "name": "stdout",
          "text": [
            "False\n"
          ]
        }
      ]
    },
    {
      "cell_type": "code",
      "source": [
        "print(\"Moon\" in \"This text will describe facts about the Moon\")"
      ],
      "metadata": {
        "colab": {
          "base_uri": "https://localhost:8080/"
        },
        "id": "YPfPimd8VJcE",
        "outputId": "655087d3-38c9-4b8d-dcaf-abf33ceeab0c"
      },
      "execution_count": null,
      "outputs": [
        {
          "output_type": "stream",
          "name": "stdout",
          "text": [
            "True\n"
          ]
        }
      ]
    },
    {
      "cell_type": "code",
      "source": [
        "temperatures = \"\"\"Saturn has a daytime temperature of -170 degrees Celsius, while Mars has -28 Celsius.\"\"\"\n",
        "print(temperatures.find(\"Moon\"))"
      ],
      "metadata": {
        "colab": {
          "base_uri": "https://localhost:8080/"
        },
        "id": "Wo5bq6q_VNP5",
        "outputId": "73ffee97-cb35-4e4b-8e64-96f605ff4a23"
      },
      "execution_count": null,
      "outputs": [
        {
          "output_type": "stream",
          "name": "stdout",
          "text": [
            "-1\n"
          ]
        }
      ]
    },
    {
      "cell_type": "code",
      "source": [
        "temperatures = \"\"\"Saturn has a daytime temperature of -170 degrees Celsius, while Mars has -28 Celsius.\"\"\"\n",
        "print(temperatures.find(\"Mars\"))"
      ],
      "metadata": {
        "colab": {
          "base_uri": "https://localhost:8080/"
        },
        "id": "k4rBKm_oVa5i",
        "outputId": "d5027591-c5fa-4b7c-859d-4d25fb7f8216"
      },
      "execution_count": null,
      "outputs": [
        {
          "output_type": "stream",
          "name": "stdout",
          "text": [
            "64\n"
          ]
        }
      ]
    },
    {
      "cell_type": "code",
      "source": [
        "temperatures = \"\"\"Saturn has a daytime temperature of -170 degrees Celsius, while Mars has -28 Celsius.\"\"\"\n",
        "print(temperatures.count(\"Mars\"))\n",
        "print(temperatures.count(\"Moon\"))"
      ],
      "metadata": {
        "colab": {
          "base_uri": "https://localhost:8080/"
        },
        "id": "lRFPppQsVhj2",
        "outputId": "3f826219-45cb-4463-e1f3-feb7b10030ff"
      },
      "execution_count": null,
      "outputs": [
        {
          "output_type": "stream",
          "name": "stdout",
          "text": [
            "1\n",
            "0\n"
          ]
        }
      ]
    },
    {
      "cell_type": "code",
      "source": [
        "print(\"The Moon And The Earth\".lower())"
      ],
      "metadata": {
        "colab": {
          "base_uri": "https://localhost:8080/"
        },
        "id": "hL_lXAHqVllG",
        "outputId": "b2098e8d-46a7-4518-d0dd-c708de02558a"
      },
      "execution_count": null,
      "outputs": [
        {
          "output_type": "stream",
          "name": "stdout",
          "text": [
            "the moon and the earth\n"
          ]
        }
      ]
    },
    {
      "cell_type": "code",
      "source": [
        "print(\"The Moon And The Earth\".upper())"
      ],
      "metadata": {
        "colab": {
          "base_uri": "https://localhost:8080/"
        },
        "id": "8YVcA-49VnXn",
        "outputId": "43971023-844a-41a8-8205-d54623e5b22e"
      },
      "execution_count": null,
      "outputs": [
        {
          "output_type": "stream",
          "name": "stdout",
          "text": [
            "THE MOON AND THE EARTH\n"
          ]
        }
      ]
    },
    {
      "cell_type": "code",
      "source": [
        "temperatures = \"Mars Average Temperature: -60 C\"\n",
        "parts = temperatures.split(':')\n",
        "print(parts)\n",
        "print(parts[-1])"
      ],
      "metadata": {
        "colab": {
          "base_uri": "https://localhost:8080/"
        },
        "id": "r4ZvxdSiVrxC",
        "outputId": "0f8a0661-c75b-4243-8cb3-a244fbf61089"
      },
      "execution_count": null,
      "outputs": [
        {
          "output_type": "stream",
          "name": "stdout",
          "text": [
            "['Mars Average Temperature', ' -60 C']\n",
            " -60 C\n"
          ]
        }
      ]
    },
    {
      "cell_type": "code",
      "source": [
        "mars_temperature = \"The highest temperature on Mars is about 30 C\"\n",
        "for item in mars_temperature.split():\n",
        "    if item.isnumeric():\n",
        "        print(item)"
      ],
      "metadata": {
        "colab": {
          "base_uri": "https://localhost:8080/"
        },
        "id": "OXy-iMrXVzc9",
        "outputId": "cec03c58-7311-4cf6-939d-5af34a199ecb"
      },
      "execution_count": null,
      "outputs": [
        {
          "output_type": "stream",
          "name": "stdout",
          "text": [
            "30\n"
          ]
        }
      ]
    },
    {
      "cell_type": "code",
      "source": [
        "print(\"-60\".startswith('-'))"
      ],
      "metadata": {
        "colab": {
          "base_uri": "https://localhost:8080/"
        },
        "id": "Mq-7j4gvV9AX",
        "outputId": "f4ac394c-d9f3-4245-996c-8dfef062a6f7"
      },
      "execution_count": null,
      "outputs": [
        {
          "output_type": "stream",
          "name": "stdout",
          "text": [
            "True\n"
          ]
        }
      ]
    },
    {
      "cell_type": "code",
      "source": [
        "if \"30 C\".endswith(\"C\"):\n",
        " print(\"This temperature is in Celsius\")"
      ],
      "metadata": {
        "colab": {
          "base_uri": "https://localhost:8080/"
        },
        "id": "HCATG4fDWD4M",
        "outputId": "d263876a-ff7a-4f33-c43f-8f0014bf6f8c"
      },
      "execution_count": null,
      "outputs": [
        {
          "output_type": "stream",
          "name": "stdout",
          "text": [
            "This temperature is in Celsius\n"
          ]
        }
      ]
    },
    {
      "cell_type": "code",
      "source": [
        "print(\"Saturn has a daytime temperature of -170 degrees Celsius, while Mars has -28 Celsius.\".replace(\"Celsius\", \"C\"))"
      ],
      "metadata": {
        "colab": {
          "base_uri": "https://localhost:8080/"
        },
        "id": "UbquvQPqWJgs",
        "outputId": "bb61d6a4-178d-4ea2-a346-d1c0aa473261"
      },
      "execution_count": null,
      "outputs": [
        {
          "output_type": "stream",
          "name": "stdout",
          "text": [
            "Saturn has a daytime temperature of -170 degrees C, while Mars has -28 C.\n"
          ]
        }
      ]
    },
    {
      "cell_type": "code",
      "source": [
        "text = \"Temperatures on the Moon can vary wildly.\"\n",
        "print(\"temperatures\" in text)"
      ],
      "metadata": {
        "colab": {
          "base_uri": "https://localhost:8080/"
        },
        "id": "exsb9CJoWQjI",
        "outputId": "68b890eb-cdc5-484a-bee5-15f2e899c8ce"
      },
      "execution_count": null,
      "outputs": [
        {
          "output_type": "stream",
          "name": "stdout",
          "text": [
            "False\n"
          ]
        }
      ]
    },
    {
      "cell_type": "code",
      "source": [
        "text = \"Temperatures on the Moon can vary wildly.\"\n",
        "print(\"temperatures\" in text.lower())"
      ],
      "metadata": {
        "colab": {
          "base_uri": "https://localhost:8080/"
        },
        "id": "GOM60ZZMWUqn",
        "outputId": "a8dbd98d-56b5-4e2b-ea52-5f7829a4d895"
      },
      "execution_count": null,
      "outputs": [
        {
          "output_type": "stream",
          "name": "stdout",
          "text": [
            "True\n"
          ]
        }
      ]
    },
    {
      "cell_type": "code",
      "source": [
        "moon_facts = [\"The Moon is drifting away from the Earth.\", \"On average, the Moon is moving about 4cm every year.\"]\n",
        "print(' '.join(moon_facts))"
      ],
      "metadata": {
        "colab": {
          "base_uri": "https://localhost:8080/"
        },
        "id": "YjiE8K0CWZrb",
        "outputId": "037dc035-56e4-4f2e-e19d-1df5e10090d3"
      },
      "execution_count": null,
      "outputs": [
        {
          "output_type": "stream",
          "name": "stdout",
          "text": [
            "The Moon is drifting away from the Earth. On average, the Moon is moving about 4cm every year.\n"
          ]
        }
      ]
    },
    {
      "cell_type": "code",
      "source": [],
      "metadata": {
        "id": "qBVJ8Ei9WfgN"
      },
      "execution_count": null,
      "outputs": []
    },
    {
      "cell_type": "code",
      "source": [],
      "metadata": {
        "id": "sMzIYNiubO1H"
      },
      "execution_count": null,
      "outputs": []
    }
  ]
}